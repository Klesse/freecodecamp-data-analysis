{
  "nbformat": 4,
  "nbformat_minor": 0,
  "metadata": {
    "colab": {
      "provenance": []
    },
    "kernelspec": {
      "name": "python3",
      "display_name": "Python 3"
    },
    "language_info": {
      "name": "python"
    }
  },
  "cells": [
    {
      "cell_type": "code",
      "execution_count": null,
      "metadata": {
        "id": "6ul5htWACNic"
      },
      "outputs": [],
      "source": [
        "list = [1,2,3,4,5,6,7,8,9]\n",
        "if len(list) != 9:\n",
        "    raise ValueError(\"List must contain nine numbers.\")\n",
        "list2 = []\n",
        "list2.append(list[0:3])\n",
        "list2.append(list[3:6])\n",
        "list2.append(list[6:9])\n",
        "print(\"List must contain nine numbers.\")\n",
        "mean_list = [np.mean(list2, axis=0).tolist(), np.mean(list2, axis=1).tolist(), np.mean(list2)]\n",
        "var_list = [np.var(list2, axis=0).tolist(), np.var(list2, axis=1).tolist(), np.var(list2).tolist()]\n",
        "std_list = [np.std(list2, axis=0).tolist(), np.std(list2, axis=1).tolist(), np.std(list2)]\n",
        "min_list = [np.min(list2, axis=0).tolist(), np.min(list2, axis=1).tolist(), np.min(list2)]\n",
        "max_list = [np.max(list2, axis=0).tolist(), np.max(list2, axis=1).tolist(), np.max(list2)]\n",
        "sum_list = [np.sum(list2, axis=0).tolist(), np.sum(list2, axis=1).tolist(), np.sum(list2)]\n",
        "calculations = {\n",
        "    'mean': mean_list,\n",
        "    'variance': var_list,\n",
        "    'standard deviation': std_list,\n",
        "    'max': max_list,\n",
        "    'min': min_list,\n",
        "    'sum': sum_list\n",
        "  }"
      ]
    }
  ]
}